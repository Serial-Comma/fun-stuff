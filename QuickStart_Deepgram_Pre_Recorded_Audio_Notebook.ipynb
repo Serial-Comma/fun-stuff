{
  "cells": [
    {
      "cell_type": "markdown",
      "metadata": {
        "id": "VN53w-RMPxVK"
      },
      "source": [
        "# Transcribe any audio file with Deepgram!\n",
        "\n",
        "**Make a copy of this notebook into your own drive, and follow the instructions below!** 🥳🥳🥳\n",
        "\n",
        "\n",
        "----------------------------\n",
        "\n",
        "# Get started:\n",
        "\n",
        "1) Copy this notebook (`File > Save a copy in Drive`) or download the .ipynb (`File > Download > Download as .ipynb`).\n",
        "\n",
        "2) Follow the instructions below!\n",
        "\n",
        "----------------------------\n",
        "#Instructions:\n",
        "\n",
        "Running the following three cells will allow you to transcribe any audio you wish. The comments below point out the variables you can manipulate to modify your output as you wish.\n",
        "\n",
        "Before running this notebook, you'll need to have a couple audio files on-hand\n",
        "that you wish to transcribe. Once you have those files in a folder, you should be able to transcribe as you please. Just specify the filepaths as outlined below!\n",
        "\n",
        "And by the way, if you haven't yet signed up for Deepgram, check out this link here: https://dpgr.am/prerecorded-notebook-signup"
      ]
    },
    {
      "cell_type": "markdown",
      "metadata": {
        "id": "ytg278L-QhAr"
      },
      "source": [
        "# Step 1: Dependencies\n",
        "\n",
        "Run this cell to download all necessary dependencies.\n",
        "\n",
        "Note: You can run a cell by clicking the play button on the left or by clicking on the cell and pressing `shift`+`ENTER` at the same time. (Or `shift` + `return` on Mac)."
      ]
    },
    {
      "cell_type": "code",
      "execution_count": null,
      "metadata": {
        "id": "tDNAqesZNFB4"
      },
      "outputs": [],
      "source": [
        "! pip install requests ffmpeg-python\n",
        "! pip install deepgram-sdk --upgrade"
      ]
    },
    {
      "cell_type": "markdown",
      "metadata": {
        "id": "Hazx372AOB0v"
      },
      "source": [
        "# Step 2: Upload audio files to this Colab!\n",
        "\n",
        "On the left, you'll see a side-bar with a folder icon. Click that icon, and you'll see a series of folders. This is where you'll upload your audios.\n",
        "\n",
        "You can upload your files directly into this directory by clicking the upload icon in the top left. The icon looks like a sheet of paper with an upwards-pointing arrow on it.\n",
        "\n",
        "Click the upload icon and select the audio file you wish to transcribe. It will take a few moments for the audio to appear, but once it does, move onto Step 3."
      ]
    },
    {
      "cell_type": "code",
      "execution_count": null,
      "metadata": {
        "id": "MiX4C4vyPKJG"
      },
      "outputs": [],
      "source": [
        "# Have you completed Step 2 above? 👀\n",
        "# Do you see your audio file in the folder on the left? 📂"
      ]
    },
    {
      "cell_type": "markdown",
      "metadata": {
        "id": "jql62j9YQrai"
      },
      "source": [
        "# Step 3: Transcription\n",
        "\n",
        "Fill in the following variables:\n",
        "\n",
        "\n",
        "* `dg_key` = Your personal Deepgram API key\n",
        "* `MIMETYPE` = the type of audio file you're working with (mp3, mp4, m4a, etc.)\n",
        "* `DIRECTORY` = The name of the folder that contains the audio(s) you wish to transcribe. Note, unless you created a new folder for your audios, the default `'.'` value should be fine. (Or, if you placed your audio file in the default `sample_data` folder, set the value of `DIRECTORY` to `sample_data`.)\n",
        "\n",
        "\n",
        "Now run the cell! (`Shift` + `Enter`)\n",
        "\n",
        "-----------\n",
        "\n",
        "\n",
        "\n",
        "And by the way, if you're already a Deepgram user, and you're getting an error in this cell the most common fixes are:\n",
        "\n",
        "1. You may need to update your installation of the deepgram-sdk.\n",
        "2. You may need to check how many credits you have left in your Deepgram account."
      ]
    },
    {
      "cell_type": "code",
      "execution_count": 5,
      "metadata": {
        "id": "mlQVesiDOeAf"
      },
      "outputs": [],
      "source": [
        "from deepgram import Deepgram\n",
        "import asyncio, json, os\n",
        "from api_secrets import DEEPGRAM_API_KEY\n",
        "'''\n",
        " Sign up at https://console.deepgram.com/signup\n",
        " to get an API key and 45,000 minutes\n",
        " for free!\n",
        "'''\n",
        "dg_key = '🔑🔑🔑 Your key here 🔑🔑🔑'\n",
        "dg = Deepgram(DEEPGRAM_API_KEY)\n",
        "\n",
        "\n",
        "'''\n",
        "The most common audio formats and encodings we support\n",
        "include mp3, mp4, mp2, aac, wav, flac, pcm, m4a, ogg, opus, and webm,\n",
        "So feel free to adjust the `MIMETYPE` variable as needed\n",
        "'''\n",
        "MIMETYPE = 'mp3'\n",
        "\n",
        "# Note: You can use '.' if your audio is in the root\n",
        "DIRECTORY = '.'\n",
        "\n",
        "\n",
        "# Feel free to modify your model's parameters as you wish!\n",
        "params = {\n",
        "    \"punctuate\": True,\n",
        "    \"model\": 'general',\n",
        "    \"tier\": 'nova'\n",
        "}\n",
        "\n",
        "# This function is what calls on the model to transcribe\n",
        "def main():\n",
        "    audio_folder = os.listdir(DIRECTORY)\n",
        "    for audio_file in audio_folder:\n",
        "        if audio_file.endswith(MIMETYPE):\n",
        "          with open(f\"{DIRECTORY}/{audio_file}\", \"rb\") as f:\n",
        "              source = {\"buffer\": f, \"mimetype\":'audio/'+MIMETYPE}\n",
        "              res = dg.transcription.sync_prerecorded(source, params)\n",
        "              with open(f\"./{audio_file[:-4]}.json\", \"w\") as transcript:\n",
        "                  json.dump(res, transcript)\n",
        "    return\n",
        "\n",
        "main()"
      ]
    },
    {
      "cell_type": "code",
      "execution_count": null,
      "metadata": {
        "id": "ecHKxy0q6_fu"
      },
      "outputs": [],
      "source": [
        "'''\n",
        "If the cell above succeeds, you should see JSON output file(s) as siblings\n",
        "next to your audio files. Note: There may be a small delay between when\n",
        "the cell finishes running and when the JSON appears. This is normal. Just wait\n",
        "a few moments for the JSONs to appear. It should take less than a minute,\n",
        "depending on the size of your file(s).\n",
        "'''"
      ]
    },
    {
      "cell_type": "markdown",
      "metadata": {
        "id": "dAVvWh7yRAnx"
      },
      "source": [
        "# Step 4: Check out your transcription!\n",
        "\n",
        "The function below parses the output JSON and prints out the pure transcription of one of the files you just transcribed! (Make sure\n",
        "the file you're trying to examine is indeed already loaded into the\n",
        "folder on the left!)\n",
        "\n",
        "**Set the `OUTPUT` variable to the name of the file you wish to see the transcription of.**\n",
        "\n",
        "Then run this cell (`Shift`+`Enter`) to see a sentence-by-sentence transcription of your audio!"
      ]
    },
    {
      "cell_type": "code",
      "execution_count": 2,
      "metadata": {
        "id": "e7CgWdImOs-E"
      },
      "outputs": [
        {
          "name": "stdout",
          "output_type": "stream",
          "text": [
            "I saw your dancing in a crowded room.\n",
            " But then you saw me cut you by surprise.\n",
            " A single You could have asked me why I broke your heart.\n",
            " You could have told me that you fell apart.\n",
            " But you are best feeling like I wasn't there.\n",
            " And just pretended like you didn't care.\n",
            " I don't I back.\n",
            " Thing that I would always say.\n",
            " I said some things that I should never say.\n",
            " Yeah.\n",
            " I broke your heart like someone, it's a boy.\n",
            " Now you will love me for a second time.\n",
            " I don't know what I teaming back because I wanna stay.\n",
            " See your tears for another I'll be a good cry.\n",
            " For another day.\n",
            ".\n"
          ]
        }
      ],
      "source": [
        "# Set this variable to the path of the output file you wish to read\n",
        "import json\n",
        "OUTPUT = 'Save.json'\n",
        "\n",
        "\n",
        "# The JSON is loaded with information, but if you just want to read the\n",
        "# transcript, run the code below!\n",
        "def print_transcript(transcription_file):\n",
        "  with open(transcription_file, \"r\") as file:\n",
        "        data = json.load(file)\n",
        "        result = data['results']['channels'][0]['alternatives'][0]['transcript']\n",
        "        result = result.split('.')\n",
        "        for sentence in result:\n",
        "          print(sentence + '.')\n",
        "\n",
        "print_transcript(OUTPUT)"
      ]
    }
  ],
  "metadata": {
    "colab": {
      "provenance": []
    },
    "kernelspec": {
      "display_name": "Python 3.10.1 ('dg_plus_yt': venv)",
      "language": "python",
      "name": "python3"
    },
    "language_info": {
      "codemirror_mode": {
        "name": "ipython",
        "version": 3
      },
      "file_extension": ".py",
      "mimetype": "text/x-python",
      "name": "python",
      "nbconvert_exporter": "python",
      "pygments_lexer": "ipython3",
      "version": "3.12.0"
    },
    "orig_nbformat": 4,
    "vscode": {
      "interpreter": {
        "hash": "9ccb4f31e81b19d196bbac066caca5d222f2bb20938f55af05f3ca51e34eca69"
      }
    }
  },
  "nbformat": 4,
  "nbformat_minor": 0
}
