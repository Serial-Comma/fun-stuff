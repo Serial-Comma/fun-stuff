{
 "cells": [
  {
   "cell_type": "code",
   "execution_count": 4,
   "metadata": {},
   "outputs": [
    {
     "name": "stdout",
     "output_type": "stream",
     "text": [
      "Teardrop falling from your eyes. You. I don't know why I run away. I'll make you cry when I run away. You could have asked me why I broke your heart. You could have told me that you fell apart. But you bless me like I wasn't there, and just pretended like you didn't care. I don't know I run away. I'll make you cry when I run away. Take me back cause I wanna say your tear for another day. Your tears are another day. Made you that I would always say. I said some things that I should never say. Yeah, I broke your heart like someone did some mine. And now you love me for a second time. I don't know why I run away. Oh girl, I think you cry when I run away. Go take me back. Because I want to say. Save your tears for another. I realize that I'm much too late. If you deserve someone better. Save your tears for day when God is all the day. I know I'll make you cry when run away, baby. For another day. I say for another day. God can't.\n"
     ]
    }
   ],
   "source": []
  },
  {
   "cell_type": "code",
   "execution_count": null,
   "metadata": {},
   "outputs": [],
   "source": []
  }
 ],
 "metadata": {
  "kernelspec": {
   "display_name": "Python 3",
   "language": "python",
   "name": "python3"
  },
  "language_info": {
   "codemirror_mode": {
    "name": "ipython",
    "version": 3
   },
   "file_extension": ".py",
   "mimetype": "text/x-python",
   "name": "python",
   "nbconvert_exporter": "python",
   "pygments_lexer": "ipython3",
   "version": "3.12.0"
  }
 },
 "nbformat": 4,
 "nbformat_minor": 2
}
