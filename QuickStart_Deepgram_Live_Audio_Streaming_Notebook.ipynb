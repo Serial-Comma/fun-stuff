{
  "cells": [
    {
      "cell_type": "markdown",
      "metadata": {
        "id": "VN53w-RMPxVK"
      },
      "source": [
        "# Transcribe any audio stream with Deepgram!\n",
        "\n",
        "**Make a copy of this notebook into your own drive, and follow the instructions below!** 🥳🥳🥳\n",
        "\n",
        "\n",
        "----------------------------\n",
        "\n",
        "# Get started:\n",
        "\n",
        "1) Copy this notebook (`File > Save a copy in Drive`) or download the .ipynb (`File > Download > Download as .ipynb`).\n",
        "\n",
        "2) Follow the instructions below!\n",
        "\n",
        "----------------------------\n",
        "# Instructions:\n",
        "Running the following cells will allow you to transcribe any audio stream you wish. The comments below point out the variables you can manipulate to modify your output.\n",
        "\n",
        "Also, this notebook comes with a video tutorial! Here: https://youtu.be/dq4AiiiaAsY\n",
        "\n",
        "And by the way, if you haven't yet signed up for Deepgram, check out this link: https://dpgr.am/streaming-notebook"
      ]
    },
    {
      "cell_type": "markdown",
      "metadata": {
        "id": "ytg278L-QhAr"
      },
      "source": [
        "# Step 1: Dependencies\n",
        "\n",
        "Run this cell to download all necessary dependencies.\n",
        "\n",
        "Note: You can run a cell by clicking the play button on the left or by clicking on the cell and pressing `shift`+`ENTER` at the same time. (Or `shift` + `return` on Mac)."
      ]
    },
    {
      "cell_type": "code",
      "execution_count": null,
      "metadata": {
        "colab": {
          "base_uri": "https://localhost:8080/"
        },
        "id": "tDNAqesZNFB4",
        "outputId": "93fdf785-dd21-423f-f0ad-b2bf18e83891"
      },
      "outputs": [
        {
          "name": "stdout",
          "output_type": "stream",
          "text": [
            "Looking in indexes: https://pypi.org/simple, https://us-python.pkg.dev/colab-wheels/public/simple/\n",
            "Requirement already satisfied: requests in /usr/local/lib/python3.10/dist-packages (2.27.1)\n",
            "Collecting ffmpeg-python\n",
            "  Downloading ffmpeg_python-0.2.0-py3-none-any.whl (25 kB)\n",
            "Requirement already satisfied: urllib3<1.27,>=1.21.1 in /usr/local/lib/python3.10/dist-packages (from requests) (1.26.16)\n",
            "Requirement already satisfied: certifi>=2017.4.17 in /usr/local/lib/python3.10/dist-packages (from requests) (2023.5.7)\n",
            "Requirement already satisfied: charset-normalizer~=2.0.0 in /usr/local/lib/python3.10/dist-packages (from requests) (2.0.12)\n",
            "Requirement already satisfied: idna<4,>=2.5 in /usr/local/lib/python3.10/dist-packages (from requests) (3.4)\n",
            "Requirement already satisfied: future in /usr/local/lib/python3.10/dist-packages (from ffmpeg-python) (0.18.3)\n",
            "Installing collected packages: ffmpeg-python\n",
            "Successfully installed ffmpeg-python-0.2.0\n",
            "Looking in indexes: https://pypi.org/simple, https://us-python.pkg.dev/colab-wheels/public/simple/\n",
            "Collecting deepgram-sdk\n",
            "  Downloading deepgram_sdk-2.8.0-py3-none-any.whl (22 kB)\n",
            "Requirement already satisfied: aiohttp in /usr/local/lib/python3.10/dist-packages (from deepgram-sdk) (3.8.4)\n",
            "Collecting websockets (from deepgram-sdk)\n",
            "  Downloading websockets-11.0.3-cp310-cp310-manylinux_2_5_x86_64.manylinux1_x86_64.manylinux_2_17_x86_64.manylinux2014_x86_64.whl (129 kB)\n",
            "\u001b[2K     \u001b[90m━━━━━━━━━━━━━━━━━━━━━━━━━━━━━━━━━━━━━━\u001b[0m \u001b[32m129.9/129.9 kB\u001b[0m \u001b[31m15.7 MB/s\u001b[0m eta \u001b[36m0:00:00\u001b[0m\n",
            "\u001b[?25hRequirement already satisfied: attrs>=17.3.0 in /usr/local/lib/python3.10/dist-packages (from aiohttp->deepgram-sdk) (23.1.0)\n",
            "Requirement already satisfied: charset-normalizer<4.0,>=2.0 in /usr/local/lib/python3.10/dist-packages (from aiohttp->deepgram-sdk) (2.0.12)\n",
            "Requirement already satisfied: multidict<7.0,>=4.5 in /usr/local/lib/python3.10/dist-packages (from aiohttp->deepgram-sdk) (6.0.4)\n",
            "Requirement already satisfied: async-timeout<5.0,>=4.0.0a3 in /usr/local/lib/python3.10/dist-packages (from aiohttp->deepgram-sdk) (4.0.2)\n",
            "Requirement already satisfied: yarl<2.0,>=1.0 in /usr/local/lib/python3.10/dist-packages (from aiohttp->deepgram-sdk) (1.9.2)\n",
            "Requirement already satisfied: frozenlist>=1.1.1 in /usr/local/lib/python3.10/dist-packages (from aiohttp->deepgram-sdk) (1.3.3)\n",
            "Requirement already satisfied: aiosignal>=1.1.2 in /usr/local/lib/python3.10/dist-packages (from aiohttp->deepgram-sdk) (1.3.1)\n",
            "Requirement already satisfied: idna>=2.0 in /usr/local/lib/python3.10/dist-packages (from yarl<2.0,>=1.0->aiohttp->deepgram-sdk) (3.4)\n",
            "Installing collected packages: websockets, deepgram-sdk\n",
            "Successfully installed deepgram-sdk-2.8.0 websockets-11.0.3\n"
          ]
        }
      ],
      "source": [
        "! pip install requests ffmpeg-python\n",
        "! pip install deepgram-sdk --upgrade"
      ]
    },
    {
      "cell_type": "markdown",
      "metadata": {
        "id": "QVbwf2_OrOkL"
      },
      "source": [
        "# Step 2: Live Transcription\n",
        "\n",
        "Run this cell to livestream audio from any source! By default, we are streaming from BBC radio:  'http://stream.live.vc.bbcmedia.co.uk/bbc_radio_fourlw_online_nonuk'\n",
        "\n",
        "Set the following variables as necessary:\n",
        "\n",
        "\n",
        "*   `DEEPGRAM_API_KEY` = Your personal Deepgram API key\n",
        "*   `URL` = The URL you wish to stream from. Again, we're streaming from BBC Radio by default, but if you wish to stream from another source just replace this URL.\n",
        "*  `PARAMS` = The starter code here should give you a well-punctuated English transcript. However, if you wish to change the language, use a different model, or modify the output, check out our docs to figure out the best parameter configuration for you: https://developers.deepgram.com/documentation/\n",
        "*  `TIME_LIMIT` = The number of seconds you wish to transcribe the livestream.Set this equal to `float(inf)` if you wish to stream forever. (Or at least until you wish to cut off the function manually.)\n",
        "*  `TRANSCRIPT_ONLY` = Set this variable to `True` if you wish only to see the words you're transcribing. Set it to `False` if you wish to see the full JSON responses (which include word-level timestamps, metadata, and confidence levels).\n",
        "\n",
        "To run the cell, click the play button or press `Shift`+`Enter` on your keyboard. (Or `Shift`+`return` if you're on Mac.)\n",
        "\n",
        "-------\n",
        "\n",
        "Note: if you're already a Deepgram user, and you're getting an error in this cell the most common issues are:\n",
        "\n",
        "1. You may need to update your installation of `deepgram-sdk`.\n",
        "2. You may need to check how many credits you have left in your Deepgram account.\n",
        "\n"
      ]
    },
    {
      "cell_type": "code",
      "execution_count": 1,
      "metadata": {
        "id": "O2DS14FKll6q"
      },
      "outputs": [
        {
          "name": "stdout",
          "output_type": "stream",
          "text": [
            "This or to seek to be seen to\n",
            "want to interfere, but in a statement earlier, the Hunter Biden's lawyer\n",
            "claimed that the charges were politically motivated\n",
            "he say that Hunter's name was anything other than Biden\n",
            "he wouldn't be facing those charges. And he says that prosecutors are simply bowing to\n",
            "from Republican lawmakers and reneging on that previous plea deal.\n",
            "And so I think we're to assume that those are probably\n",
            "president Biden's own sentiments, but ones that he obviously can't express.\n",
            "A US correspondent, Qinganyaka, many thanks.\n",
            "\n",
            "\n",
            "\n",
            "✅ Transcription complete! Connection closed. ✅\n"
          ]
        }
      ],
      "source": [
        "from deepgram import Deepgram\n",
        "import asyncio\n",
        "import aiohttp\n",
        "import time\n",
        "from api_secrets import DEEPGRAM_API_KEY\n",
        "# Your personal API key\n",
        "\n",
        "# URL for the real-time streaming audio you would like to transcribe\n",
        "URL = 'http://stream.live.vc.bbcmedia.co.uk/bbc_world_service'\n",
        "\n",
        "# Fill in these parameters to adjust the output as you wish!\n",
        "# See our docs for more info: https://developers.deepgram.com/documentation/\n",
        "PARAMS = {\"punctuate\": True,\n",
        "          \"numerals\": True,\n",
        "          \"model\": \"general\",\n",
        "          \"language\": \"en-US\",\n",
        "          \"tier\": \"nova\" }\n",
        "\n",
        "# The number of *seconds* you wish to transcribe the livestream.\n",
        "# Set this equal to `float(inf)` if you wish to stream forever.\n",
        "# (Or at least until you wish to cut off the function manually.)\n",
        "TIME_LIMIT = 30\n",
        "\n",
        "# Set this variable to `True` if you wish only to\n",
        "# see the transcribed words, like closed captions.\n",
        "# Set it to `False` if you wish to see the raw JSON responses.\n",
        "TRANSCRIPT_ONLY = True\n",
        "\n",
        "'''\n",
        "Function object.\n",
        "\n",
        "Input: JSON data sent by a live transcription instance, which is named\n",
        "`deepgramLive` in main().\n",
        "\n",
        "Output: The printed transcript obtained from the JSON object\n",
        "'''\n",
        "def print_transcript(json_data):\n",
        "    try:\n",
        "      print(json_data['channel']['alternatives'][0]['transcript'])\n",
        "    except KeyError:\n",
        "      print()\n",
        "\n",
        "async def main():\n",
        "    start = time.time()\n",
        "    # Initializes the Deepgram SDK\n",
        "    deepgram = Deepgram(DEEPGRAM_API_KEY)\n",
        "    # Create a websocket connection to Deepgram\n",
        "    try:\n",
        "        deepgramLive = await deepgram.transcription.live(PARAMS)\n",
        "    except Exception as e:\n",
        "        print(f'Could not open socket: {e}')\n",
        "        return\n",
        "\n",
        "    # Listen for the connection to close\n",
        "    deepgramLive.registerHandler(deepgramLive.event.CLOSE,lambda _: print('✅ Transcription complete! Connection closed. ✅'))\n",
        "\n",
        "    # Listen for any transcripts received from Deepgram & write them to the console\n",
        "    if TRANSCRIPT_ONLY:\n",
        "        deepgramLive.registerHandler(deepgramLive.event.TRANSCRIPT_RECEIVED, print_transcript)\n",
        "    else:\n",
        "        deepgramLive.registerHandler(deepgramLive.event.TRANSCRIPT_RECEIVED, print)\n",
        "\n",
        "    # Listen for the connection to open and send streaming audio from the URL to Deepgram\n",
        "    async with aiohttp.ClientSession() as session:\n",
        "        async with session.get(URL) as audio:\n",
        "            while time.time() - start < TIME_LIMIT:\n",
        "                data = await audio.content.readany()\n",
        "                if data:\n",
        "                    deepgramLive.send(data)\n",
        "                else:\n",
        "                    break\n",
        "\n",
        "    # Indicate that we've finished sending data by sending the customary\n",
        "    # zero-byte message to the Deepgram streaming endpoint, and wait\n",
        "    # until we get back the final summary metadata object\n",
        "    await deepgramLive.finish()\n",
        "\n",
        "await main()"
      ]
    }
  ],
  "metadata": {
    "colab": {
      "provenance": []
    },
    "kernelspec": {
      "display_name": "Python 3.10.1 ('dg_plus_yt': venv)",
      "language": "python",
      "name": "python3"
    },
    "language_info": {
      "codemirror_mode": {
        "name": "ipython",
        "version": 3
      },
      "file_extension": ".py",
      "mimetype": "text/x-python",
      "name": "python",
      "nbconvert_exporter": "python",
      "pygments_lexer": "ipython3",
      "version": "3.12.0"
    },
    "orig_nbformat": 4,
    "vscode": {
      "interpreter": {
        "hash": "9ccb4f31e81b19d196bbac066caca5d222f2bb20938f55af05f3ca51e34eca69"
      }
    }
  },
  "nbformat": 4,
  "nbformat_minor": 0
}
